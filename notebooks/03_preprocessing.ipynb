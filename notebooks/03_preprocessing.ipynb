{
 "cells": [
  {
   "cell_type": "markdown",
   "metadata": {},
   "source": [
    "## Imports"
   ]
  },
  {
   "cell_type": "code",
   "execution_count": 1,
   "metadata": {},
   "outputs": [],
   "source": [
    "import pandas as pd\n",
    "import numpy as np"
   ]
  },
  {
   "cell_type": "code",
   "execution_count": 25,
   "metadata": {},
   "outputs": [],
   "source": [
    "from sklearn.preprocessing import StandardScaler"
   ]
  },
  {
   "cell_type": "code",
   "execution_count": 75,
   "metadata": {},
   "outputs": [],
   "source": [
    "from sklearn.model_selection import train_test_split"
   ]
  },
  {
   "cell_type": "markdown",
   "metadata": {},
   "source": [
    "## Load Data"
   ]
  },
  {
   "cell_type": "code",
   "execution_count": 2,
   "metadata": {},
   "outputs": [],
   "source": [
    "train = pd.read_csv(\"../data/process/train_EDA.csv\")\n",
    "test = pd.read_csv(\"../data/process/test_EDA.csv\")"
   ]
  },
  {
   "cell_type": "code",
   "execution_count": 4,
   "metadata": {},
   "outputs": [
    {
     "data": {
      "text/html": [
       "<div>\n",
       "<style scoped>\n",
       "    .dataframe tbody tr th:only-of-type {\n",
       "        vertical-align: middle;\n",
       "    }\n",
       "\n",
       "    .dataframe tbody tr th {\n",
       "        vertical-align: top;\n",
       "    }\n",
       "\n",
       "    .dataframe thead th {\n",
       "        text-align: right;\n",
       "    }\n",
       "</style>\n",
       "<table border=\"1\" class=\"dataframe\">\n",
       "  <thead>\n",
       "    <tr style=\"text-align: right;\">\n",
       "      <th></th>\n",
       "      <th>policy_id</th>\n",
       "      <th>policy_tenure</th>\n",
       "      <th>age_of_car</th>\n",
       "      <th>age_of_policyholder</th>\n",
       "      <th>area_cluster</th>\n",
       "      <th>population_density</th>\n",
       "      <th>make</th>\n",
       "      <th>segment</th>\n",
       "      <th>model</th>\n",
       "      <th>fuel_type</th>\n",
       "      <th>...</th>\n",
       "      <th>is_driver_seat_height_adjustable</th>\n",
       "      <th>is_day_night_rear_view_mirror</th>\n",
       "      <th>is_ecw</th>\n",
       "      <th>is_speed_alert</th>\n",
       "      <th>ncap_rating</th>\n",
       "      <th>is_claim</th>\n",
       "      <th>max_torque_Nm</th>\n",
       "      <th>max_torque_rpm</th>\n",
       "      <th>max_power_bhp</th>\n",
       "      <th>max_power_rpm</th>\n",
       "    </tr>\n",
       "  </thead>\n",
       "  <tbody>\n",
       "    <tr>\n",
       "      <th>0</th>\n",
       "      <td>ID00001</td>\n",
       "      <td>0.515874</td>\n",
       "      <td>0.05</td>\n",
       "      <td>0.644231</td>\n",
       "      <td>C1</td>\n",
       "      <td>4990</td>\n",
       "      <td>1</td>\n",
       "      <td>A</td>\n",
       "      <td>M1</td>\n",
       "      <td>CNG</td>\n",
       "      <td>...</td>\n",
       "      <td>False</td>\n",
       "      <td>False</td>\n",
       "      <td>False</td>\n",
       "      <td>True</td>\n",
       "      <td>0</td>\n",
       "      <td>False</td>\n",
       "      <td>60.0</td>\n",
       "      <td>3500.0</td>\n",
       "      <td>40.36</td>\n",
       "      <td>6000.0</td>\n",
       "    </tr>\n",
       "    <tr>\n",
       "      <th>1</th>\n",
       "      <td>ID00002</td>\n",
       "      <td>0.672619</td>\n",
       "      <td>0.02</td>\n",
       "      <td>0.375000</td>\n",
       "      <td>C2</td>\n",
       "      <td>27003</td>\n",
       "      <td>1</td>\n",
       "      <td>A</td>\n",
       "      <td>M1</td>\n",
       "      <td>CNG</td>\n",
       "      <td>...</td>\n",
       "      <td>False</td>\n",
       "      <td>False</td>\n",
       "      <td>False</td>\n",
       "      <td>True</td>\n",
       "      <td>0</td>\n",
       "      <td>False</td>\n",
       "      <td>60.0</td>\n",
       "      <td>3500.0</td>\n",
       "      <td>40.36</td>\n",
       "      <td>6000.0</td>\n",
       "    </tr>\n",
       "    <tr>\n",
       "      <th>2</th>\n",
       "      <td>ID00003</td>\n",
       "      <td>0.841110</td>\n",
       "      <td>0.02</td>\n",
       "      <td>0.384615</td>\n",
       "      <td>C3</td>\n",
       "      <td>4076</td>\n",
       "      <td>1</td>\n",
       "      <td>A</td>\n",
       "      <td>M1</td>\n",
       "      <td>CNG</td>\n",
       "      <td>...</td>\n",
       "      <td>False</td>\n",
       "      <td>False</td>\n",
       "      <td>False</td>\n",
       "      <td>True</td>\n",
       "      <td>0</td>\n",
       "      <td>False</td>\n",
       "      <td>60.0</td>\n",
       "      <td>3500.0</td>\n",
       "      <td>40.36</td>\n",
       "      <td>6000.0</td>\n",
       "    </tr>\n",
       "    <tr>\n",
       "      <th>3</th>\n",
       "      <td>ID00004</td>\n",
       "      <td>0.900277</td>\n",
       "      <td>0.11</td>\n",
       "      <td>0.432692</td>\n",
       "      <td>C4</td>\n",
       "      <td>21622</td>\n",
       "      <td>1</td>\n",
       "      <td>C1</td>\n",
       "      <td>M2</td>\n",
       "      <td>Petrol</td>\n",
       "      <td>...</td>\n",
       "      <td>True</td>\n",
       "      <td>True</td>\n",
       "      <td>True</td>\n",
       "      <td>True</td>\n",
       "      <td>2</td>\n",
       "      <td>False</td>\n",
       "      <td>113.0</td>\n",
       "      <td>4400.0</td>\n",
       "      <td>88.50</td>\n",
       "      <td>6000.0</td>\n",
       "    </tr>\n",
       "    <tr>\n",
       "      <th>4</th>\n",
       "      <td>ID00005</td>\n",
       "      <td>0.596403</td>\n",
       "      <td>0.11</td>\n",
       "      <td>0.634615</td>\n",
       "      <td>C5</td>\n",
       "      <td>34738</td>\n",
       "      <td>2</td>\n",
       "      <td>A</td>\n",
       "      <td>M3</td>\n",
       "      <td>Petrol</td>\n",
       "      <td>...</td>\n",
       "      <td>False</td>\n",
       "      <td>True</td>\n",
       "      <td>True</td>\n",
       "      <td>True</td>\n",
       "      <td>2</td>\n",
       "      <td>False</td>\n",
       "      <td>91.0</td>\n",
       "      <td>4250.0</td>\n",
       "      <td>67.06</td>\n",
       "      <td>5500.0</td>\n",
       "    </tr>\n",
       "  </tbody>\n",
       "</table>\n",
       "<p>5 rows × 48 columns</p>\n",
       "</div>"
      ],
      "text/plain": [
       "  policy_id  policy_tenure  age_of_car  age_of_policyholder area_cluster  \\\n",
       "0   ID00001       0.515874        0.05             0.644231           C1   \n",
       "1   ID00002       0.672619        0.02             0.375000           C2   \n",
       "2   ID00003       0.841110        0.02             0.384615           C3   \n",
       "3   ID00004       0.900277        0.11             0.432692           C4   \n",
       "4   ID00005       0.596403        0.11             0.634615           C5   \n",
       "\n",
       "   population_density  make segment model fuel_type  ...  \\\n",
       "0                4990     1       A    M1       CNG  ...   \n",
       "1               27003     1       A    M1       CNG  ...   \n",
       "2                4076     1       A    M1       CNG  ...   \n",
       "3               21622     1      C1    M2    Petrol  ...   \n",
       "4               34738     2       A    M3    Petrol  ...   \n",
       "\n",
       "  is_driver_seat_height_adjustable is_day_night_rear_view_mirror is_ecw  \\\n",
       "0                            False                         False  False   \n",
       "1                            False                         False  False   \n",
       "2                            False                         False  False   \n",
       "3                             True                          True   True   \n",
       "4                            False                          True   True   \n",
       "\n",
       "   is_speed_alert  ncap_rating  is_claim  max_torque_Nm  max_torque_rpm  \\\n",
       "0            True            0     False           60.0          3500.0   \n",
       "1            True            0     False           60.0          3500.0   \n",
       "2            True            0     False           60.0          3500.0   \n",
       "3            True            2     False          113.0          4400.0   \n",
       "4            True            2     False           91.0          4250.0   \n",
       "\n",
       "   max_power_bhp max_power_rpm  \n",
       "0          40.36        6000.0  \n",
       "1          40.36        6000.0  \n",
       "2          40.36        6000.0  \n",
       "3          88.50        6000.0  \n",
       "4          67.06        5500.0  \n",
       "\n",
       "[5 rows x 48 columns]"
      ]
     },
     "execution_count": 4,
     "metadata": {},
     "output_type": "execute_result"
    }
   ],
   "source": [
    "train.head()"
   ]
  },
  {
   "cell_type": "code",
   "execution_count": 5,
   "metadata": {},
   "outputs": [
    {
     "data": {
      "text/html": [
       "<div>\n",
       "<style scoped>\n",
       "    .dataframe tbody tr th:only-of-type {\n",
       "        vertical-align: middle;\n",
       "    }\n",
       "\n",
       "    .dataframe tbody tr th {\n",
       "        vertical-align: top;\n",
       "    }\n",
       "\n",
       "    .dataframe thead th {\n",
       "        text-align: right;\n",
       "    }\n",
       "</style>\n",
       "<table border=\"1\" class=\"dataframe\">\n",
       "  <thead>\n",
       "    <tr style=\"text-align: right;\">\n",
       "      <th></th>\n",
       "      <th>policy_id</th>\n",
       "      <th>policy_tenure</th>\n",
       "      <th>age_of_car</th>\n",
       "      <th>age_of_policyholder</th>\n",
       "      <th>area_cluster</th>\n",
       "      <th>population_density</th>\n",
       "      <th>make</th>\n",
       "      <th>segment</th>\n",
       "      <th>model</th>\n",
       "      <th>fuel_type</th>\n",
       "      <th>...</th>\n",
       "      <th>is_power_steering</th>\n",
       "      <th>is_driver_seat_height_adjustable</th>\n",
       "      <th>is_day_night_rear_view_mirror</th>\n",
       "      <th>is_ecw</th>\n",
       "      <th>is_speed_alert</th>\n",
       "      <th>ncap_rating</th>\n",
       "      <th>max_torque_Nm</th>\n",
       "      <th>max_torque_rpm</th>\n",
       "      <th>max_power_bhp</th>\n",
       "      <th>max_power_rpm</th>\n",
       "    </tr>\n",
       "  </thead>\n",
       "  <tbody>\n",
       "    <tr>\n",
       "      <th>0</th>\n",
       "      <td>ID58593</td>\n",
       "      <td>0.341732</td>\n",
       "      <td>0.00</td>\n",
       "      <td>0.586538</td>\n",
       "      <td>C3</td>\n",
       "      <td>4076</td>\n",
       "      <td>1</td>\n",
       "      <td>A</td>\n",
       "      <td>M1</td>\n",
       "      <td>CNG</td>\n",
       "      <td>...</td>\n",
       "      <td>True</td>\n",
       "      <td>False</td>\n",
       "      <td>False</td>\n",
       "      <td>False</td>\n",
       "      <td>True</td>\n",
       "      <td>0</td>\n",
       "      <td>60.0</td>\n",
       "      <td>3500.0</td>\n",
       "      <td>40.36</td>\n",
       "      <td>6000.0</td>\n",
       "    </tr>\n",
       "    <tr>\n",
       "      <th>1</th>\n",
       "      <td>ID58594</td>\n",
       "      <td>0.307241</td>\n",
       "      <td>0.13</td>\n",
       "      <td>0.442308</td>\n",
       "      <td>C8</td>\n",
       "      <td>8794</td>\n",
       "      <td>1</td>\n",
       "      <td>B2</td>\n",
       "      <td>M6</td>\n",
       "      <td>Petrol</td>\n",
       "      <td>...</td>\n",
       "      <td>True</td>\n",
       "      <td>True</td>\n",
       "      <td>True</td>\n",
       "      <td>True</td>\n",
       "      <td>True</td>\n",
       "      <td>2</td>\n",
       "      <td>113.0</td>\n",
       "      <td>4400.0</td>\n",
       "      <td>88.50</td>\n",
       "      <td>6000.0</td>\n",
       "    </tr>\n",
       "    <tr>\n",
       "      <th>2</th>\n",
       "      <td>ID58595</td>\n",
       "      <td>0.327924</td>\n",
       "      <td>0.12</td>\n",
       "      <td>0.451923</td>\n",
       "      <td>C8</td>\n",
       "      <td>8794</td>\n",
       "      <td>2</td>\n",
       "      <td>A</td>\n",
       "      <td>M3</td>\n",
       "      <td>Petrol</td>\n",
       "      <td>...</td>\n",
       "      <td>True</td>\n",
       "      <td>False</td>\n",
       "      <td>True</td>\n",
       "      <td>True</td>\n",
       "      <td>True</td>\n",
       "      <td>2</td>\n",
       "      <td>91.0</td>\n",
       "      <td>4250.0</td>\n",
       "      <td>67.06</td>\n",
       "      <td>5500.0</td>\n",
       "    </tr>\n",
       "    <tr>\n",
       "      <th>3</th>\n",
       "      <td>ID58596</td>\n",
       "      <td>0.782654</td>\n",
       "      <td>0.01</td>\n",
       "      <td>0.461538</td>\n",
       "      <td>C5</td>\n",
       "      <td>34738</td>\n",
       "      <td>1</td>\n",
       "      <td>A</td>\n",
       "      <td>M1</td>\n",
       "      <td>CNG</td>\n",
       "      <td>...</td>\n",
       "      <td>True</td>\n",
       "      <td>False</td>\n",
       "      <td>False</td>\n",
       "      <td>False</td>\n",
       "      <td>True</td>\n",
       "      <td>0</td>\n",
       "      <td>60.0</td>\n",
       "      <td>3500.0</td>\n",
       "      <td>40.36</td>\n",
       "      <td>6000.0</td>\n",
       "    </tr>\n",
       "    <tr>\n",
       "      <th>4</th>\n",
       "      <td>ID58597</td>\n",
       "      <td>1.233404</td>\n",
       "      <td>0.02</td>\n",
       "      <td>0.634615</td>\n",
       "      <td>C5</td>\n",
       "      <td>34738</td>\n",
       "      <td>1</td>\n",
       "      <td>A</td>\n",
       "      <td>M1</td>\n",
       "      <td>CNG</td>\n",
       "      <td>...</td>\n",
       "      <td>True</td>\n",
       "      <td>False</td>\n",
       "      <td>False</td>\n",
       "      <td>False</td>\n",
       "      <td>True</td>\n",
       "      <td>0</td>\n",
       "      <td>60.0</td>\n",
       "      <td>3500.0</td>\n",
       "      <td>40.36</td>\n",
       "      <td>6000.0</td>\n",
       "    </tr>\n",
       "  </tbody>\n",
       "</table>\n",
       "<p>5 rows × 47 columns</p>\n",
       "</div>"
      ],
      "text/plain": [
       "  policy_id  policy_tenure  age_of_car  age_of_policyholder area_cluster  \\\n",
       "0   ID58593       0.341732        0.00             0.586538           C3   \n",
       "1   ID58594       0.307241        0.13             0.442308           C8   \n",
       "2   ID58595       0.327924        0.12             0.451923           C8   \n",
       "3   ID58596       0.782654        0.01             0.461538           C5   \n",
       "4   ID58597       1.233404        0.02             0.634615           C5   \n",
       "\n",
       "   population_density  make segment model fuel_type  ... is_power_steering  \\\n",
       "0                4076     1       A    M1       CNG  ...              True   \n",
       "1                8794     1      B2    M6    Petrol  ...              True   \n",
       "2                8794     2       A    M3    Petrol  ...              True   \n",
       "3               34738     1       A    M1       CNG  ...              True   \n",
       "4               34738     1       A    M1       CNG  ...              True   \n",
       "\n",
       "  is_driver_seat_height_adjustable is_day_night_rear_view_mirror  is_ecw  \\\n",
       "0                            False                         False   False   \n",
       "1                             True                          True    True   \n",
       "2                            False                          True    True   \n",
       "3                            False                         False   False   \n",
       "4                            False                         False   False   \n",
       "\n",
       "   is_speed_alert  ncap_rating  max_torque_Nm  max_torque_rpm  max_power_bhp  \\\n",
       "0            True            0           60.0          3500.0          40.36   \n",
       "1            True            2          113.0          4400.0          88.50   \n",
       "2            True            2           91.0          4250.0          67.06   \n",
       "3            True            0           60.0          3500.0          40.36   \n",
       "4            True            0           60.0          3500.0          40.36   \n",
       "\n",
       "  max_power_rpm  \n",
       "0        6000.0  \n",
       "1        6000.0  \n",
       "2        5500.0  \n",
       "3        6000.0  \n",
       "4        6000.0  \n",
       "\n",
       "[5 rows x 47 columns]"
      ]
     },
     "execution_count": 5,
     "metadata": {},
     "output_type": "execute_result"
    }
   ],
   "source": [
    "test.head()"
   ]
  },
  {
   "cell_type": "code",
   "execution_count": 62,
   "metadata": {},
   "outputs": [],
   "source": [
    "train[\"make\"] = train[\"make\"].astype(\"category\")\n",
    "test[\"make\"] = test[\"make\"].astype(\"category\")"
   ]
  },
  {
   "cell_type": "markdown",
   "metadata": {},
   "source": [
    "## Creating dummy features"
   ]
  },
  {
   "cell_type": "code",
   "execution_count": 63,
   "metadata": {},
   "outputs": [],
   "source": [
    "train_dummies = pd.get_dummies(train.drop(columns=[\"policy_id\"]))\n",
    "test_dummies = pd.get_dummies(test.drop(columns=[\"policy_id\"]))"
   ]
  },
  {
   "cell_type": "code",
   "execution_count": 64,
   "metadata": {},
   "outputs": [
    {
     "name": "stdout",
     "output_type": "stream",
     "text": [
      "(58592, 119)\n",
      "(39063, 118)\n"
     ]
    }
   ],
   "source": [
    "print(train_dummies.shape)\n",
    "print(test_dummies.shape)"
   ]
  },
  {
   "cell_type": "markdown",
   "metadata": {},
   "source": [
    "## Standarization"
   ]
  },
  {
   "cell_type": "markdown",
   "metadata": {},
   "source": [
    "### Subset datasets in numeric and non-numeric"
   ]
  },
  {
   "cell_type": "code",
   "execution_count": 65,
   "metadata": {},
   "outputs": [],
   "source": [
    "train_dummies_numeric = train_dummies.select_dtypes(include=[\"int\", \"float\"])\n",
    "train_dummies_non_numeric = train_dummies.select_dtypes(exclude=[\"int\", \"float\"])"
   ]
  },
  {
   "cell_type": "code",
   "execution_count": 66,
   "metadata": {},
   "outputs": [],
   "source": [
    "test_dummies_numeric = test_dummies.select_dtypes(include=[\"int\", \"float\"])\n",
    "test_dummies_non_numeric = test_dummies.select_dtypes(exclude=[\"int\", \"float\"])"
   ]
  },
  {
   "cell_type": "markdown",
   "metadata": {},
   "source": [
    "### Instantiate scaler"
   ]
  },
  {
   "cell_type": "code",
   "execution_count": 67,
   "metadata": {},
   "outputs": [],
   "source": [
    "scaler = StandardScaler()"
   ]
  },
  {
   "cell_type": "markdown",
   "metadata": {},
   "source": [
    "### Fit and transform training data"
   ]
  },
  {
   "cell_type": "code",
   "execution_count": 68,
   "metadata": {},
   "outputs": [],
   "source": [
    "train_dummies_numeric_scaled = scaler.fit_transform(train_dummies_numeric)"
   ]
  },
  {
   "cell_type": "markdown",
   "metadata": {},
   "source": [
    "### Join with non-numeric training data"
   ]
  },
  {
   "cell_type": "code",
   "execution_count": 73,
   "metadata": {},
   "outputs": [
    {
     "data": {
      "text/plain": [
       "(58592, 119)"
      ]
     },
     "execution_count": 73,
     "metadata": {},
     "output_type": "execute_result"
    }
   ],
   "source": [
    "train_dummies_numeric_scaled = pd.DataFrame(train_dummies_numeric_scaled, columns=train_dummies_numeric.columns)\n",
    "train_pre = pd.concat([train_dummies_non_numeric, train_dummies_numeric_scaled], axis=1)\n",
    "train_pre.shape"
   ]
  },
  {
   "cell_type": "markdown",
   "metadata": {},
   "source": [
    "### Transform testing data"
   ]
  },
  {
   "cell_type": "code",
   "execution_count": 71,
   "metadata": {},
   "outputs": [],
   "source": [
    "test_dummies_numeric_scaled = scaler.transform(test_dummies_numeric)"
   ]
  },
  {
   "cell_type": "markdown",
   "metadata": {},
   "source": [
    "### Join with non-numeric testing data"
   ]
  },
  {
   "cell_type": "code",
   "execution_count": 74,
   "metadata": {},
   "outputs": [
    {
     "data": {
      "text/plain": [
       "(39063, 118)"
      ]
     },
     "execution_count": 74,
     "metadata": {},
     "output_type": "execute_result"
    }
   ],
   "source": [
    "test_dummies_numeric_scaled = pd.DataFrame(test_dummies_numeric_scaled, columns=test_dummies_numeric.columns)\n",
    "test_pre = pd.concat([test_dummies_non_numeric, test_dummies_numeric_scaled], axis=1)\n",
    "test_pre.shape"
   ]
  },
  {
   "cell_type": "markdown",
   "metadata": {},
   "source": [
    "## Split data in train and validation sets"
   ]
  },
  {
   "cell_type": "markdown",
   "metadata": {},
   "source": [
    "The test dataset that I have been working on, does NOT contain labels (my target variable)."
   ]
  },
  {
   "cell_type": "markdown",
   "metadata": {},
   "source": [
    "To evaluate the models, and tune the hyperparameters, I will split the training data in train and validation subsets."
   ]
  },
  {
   "cell_type": "markdown",
   "metadata": {},
   "source": [
    "### Select X (predictor variables) and y (target variable)"
   ]
  },
  {
   "cell_type": "code",
   "execution_count": 79,
   "metadata": {},
   "outputs": [],
   "source": [
    "X = train_pre.drop(columns=[\"is_claim\"])\n",
    "y = train_pre[\"is_claim\"]"
   ]
  },
  {
   "cell_type": "markdown",
   "metadata": {},
   "source": [
    "### Train Test Split"
   ]
  },
  {
   "cell_type": "code",
   "execution_count": 82,
   "metadata": {},
   "outputs": [
    {
     "name": "stdout",
     "output_type": "stream",
     "text": [
      "(43944, 118)\n",
      "(14648, 118)\n",
      "(43944,)\n",
      "(14648,)\n"
     ]
    }
   ],
   "source": [
    "X_train, X_test, y_train, y_test = train_test_split(X, y, test_size=0.25,stratify=y, random_state=24)\n",
    "print(X_train.shape)\n",
    "print(X_test.shape)\n",
    "print(y_train.shape)\n",
    "print(y_test.shape)"
   ]
  },
  {
   "cell_type": "markdown",
   "metadata": {},
   "source": [
    "## Save data"
   ]
  },
  {
   "cell_type": "markdown",
   "metadata": {},
   "source": [
    "### Train Test Split Data"
   ]
  },
  {
   "cell_type": "code",
   "execution_count": 88,
   "metadata": {},
   "outputs": [],
   "source": [
    "X_train.to_csv(\"../data/final/X_train_split.csv\", index=False)\n",
    "X_test.to_csv(\"../data/final/X_test_split.csv\", index=False)\n",
    "y_train.to_csv(\"../data/final/y_train_split.csv\", index=False)\n",
    "y_test.to_csv(\"../data/final/y_test_split.csv\", index=False)"
   ]
  },
  {
   "cell_type": "markdown",
   "metadata": {},
   "source": [
    "### Save original train, for cross-validation"
   ]
  },
  {
   "cell_type": "code",
   "execution_count": 89,
   "metadata": {},
   "outputs": [],
   "source": [
    "train_pre.to_csv(\"../data/final/train_preprocessed.csv\", index=False)"
   ]
  },
  {
   "cell_type": "markdown",
   "metadata": {},
   "source": [
    "### Save original test, for final predictions"
   ]
  },
  {
   "cell_type": "code",
   "execution_count": 90,
   "metadata": {},
   "outputs": [],
   "source": [
    "test_pre.to_csv(\"../data/final/test_preprocessed.csv\", index=False)"
   ]
  }
 ],
 "metadata": {
  "kernelspec": {
   "display_name": "CarInsuranceEnv",
   "language": "python",
   "name": "python3"
  },
  "language_info": {
   "codemirror_mode": {
    "name": "ipython",
    "version": 3
   },
   "file_extension": ".py",
   "mimetype": "text/x-python",
   "name": "python",
   "nbconvert_exporter": "python",
   "pygments_lexer": "ipython3",
   "version": "3.12.2"
  }
 },
 "nbformat": 4,
 "nbformat_minor": 2
}
